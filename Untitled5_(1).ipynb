{
  "nbformat": 4,
  "nbformat_minor": 0,
  "metadata": {
    "colab": {
      "provenance": []
    },
    "kernelspec": {
      "name": "python3",
      "display_name": "Python 3"
    },
    "language_info": {
      "name": "python"
    }
  },
  "cells": [
    {
      "cell_type": "code",
      "execution_count": 1,
      "metadata": {
        "id": "_S13Q9SgIj5n"
      },
      "outputs": [],
      "source": [
        "import re"
      ]
    },
    {
      "cell_type": "code",
      "source": [
        "str = \"AREZOO is the Best student in NLP class.\""
      ],
      "metadata": {
        "id": "nCtIPD6mImRa"
      },
      "execution_count": 2,
      "outputs": []
    },
    {
      "cell_type": "code",
      "source": [
        "result = re.match(\"AREZOO\" , str) #morede khaste shode eynesh dar sring hast ya na\n",
        "print (result)                    #dakhele text ma olgoo ma ro jostojoo mkne"
      ],
      "metadata": {
        "colab": {
          "base_uri": "https://localhost:8080/"
        },
        "id": "bTkehuxgJRrF",
        "outputId": "4e92f301-0156-4679-d16c-eb2cf2a42ed8"
      },
      "execution_count": 3,
      "outputs": [
        {
          "output_type": "stream",
          "name": "stdout",
          "text": [
            "<re.Match object; span=(0, 6), match='AREZOO'>\n"
          ]
        }
      ]
    },
    {
      "cell_type": "code",
      "source": [
        "result.span() #position khaste shode"
      ],
      "metadata": {
        "colab": {
          "base_uri": "https://localhost:8080/"
        },
        "id": "S1v0RnV-KkZC",
        "outputId": "5665497a-4b6b-4678-b3b1-d905d18f8530"
      },
      "execution_count": 4,
      "outputs": [
        {
          "output_type": "execute_result",
          "data": {
            "text/plain": [
              "(0, 6)"
            ]
          },
          "metadata": {},
          "execution_count": 4
        }
      ]
    },
    {
      "cell_type": "code",
      "source": [
        "result.group() #chi bude ke donbalesh migashtim too string morede nazar"
      ],
      "metadata": {
        "colab": {
          "base_uri": "https://localhost:8080/",
          "height": 35
        },
        "id": "Agp5uDSCLHS6",
        "outputId": "78d3bfa0-3191-4562-d74e-e91f18cd9588"
      },
      "execution_count": 5,
      "outputs": [
        {
          "output_type": "execute_result",
          "data": {
            "text/plain": [
              "'AREZOO'"
            ],
            "application/vnd.google.colaboratory.intrinsic+json": {
              "type": "string"
            }
          },
          "metadata": {},
          "execution_count": 5
        }
      ]
    },
    {
      "cell_type": "code",
      "source": [
        "result = re.match('arezoo', str)\n",
        "result"
      ],
      "metadata": {
        "id": "J1L1Kpr9Jsvs"
      },
      "execution_count": 6,
      "outputs": []
    },
    {
      "cell_type": "code",
      "source": [
        "print(result)"
      ],
      "metadata": {
        "colab": {
          "base_uri": "https://localhost:8080/"
        },
        "id": "y-2S5kooKBcV",
        "outputId": "f4eb752e-e2aa-4802-db96-913b898b5c0c"
      },
      "execution_count": 7,
      "outputs": [
        {
          "output_type": "stream",
          "name": "stdout",
          "text": [
            "None\n"
          ]
        }
      ]
    },
    {
      "cell_type": "code",
      "source": [
        "#ketabkhune search dakhele text ma olgoo ma ro jostojoo mkne va avalin jaei ke be olgoo ma barkhord kne barmigardoone\n",
        "\n",
        "str = \"AREZOO is the best sudent in the best Community NLP class\"\n",
        "\n",
        "result = re.search(\"best\", str)\n",
        "print(result)"
      ],
      "metadata": {
        "colab": {
          "base_uri": "https://localhost:8080/"
        },
        "id": "NYS3XqCLKHOe",
        "outputId": "b0a32c48-4bcf-4df0-d7c6-54df0d73c316"
      },
      "execution_count": 8,
      "outputs": [
        {
          "output_type": "stream",
          "name": "stdout",
          "text": [
            "<re.Match object; span=(14, 18), match='best'>\n"
          ]
        }
      ]
    },
    {
      "cell_type": "code",
      "source": [
        " result = re.findall(\"best\", str)\n",
        " result"
      ],
      "metadata": {
        "colab": {
          "base_uri": "https://localhost:8080/"
        },
        "id": "IbksAHAOL7rm",
        "outputId": "fa377345-c956-453e-9c3f-ad956274dd56"
      },
      "execution_count": 9,
      "outputs": [
        {
          "output_type": "execute_result",
          "data": {
            "text/plain": [
              "['best', 'best']"
            ]
          },
          "metadata": {},
          "execution_count": 9
        }
      ]
    },
    {
      "cell_type": "code",
      "source": [
        "#tabe split matn ma ro ba asas pattern ma mishkoone\n",
        "#va vaghti be olgoo mirese olgoo ro hazf mkne\n",
        "result = re.split(\"\\s\" , str)\n",
        "result"
      ],
      "metadata": {
        "colab": {
          "base_uri": "https://localhost:8080/"
        },
        "id": "oUtzPaGuOMX5",
        "outputId": "337c6a5c-f879-444a-86d9-08390e787593"
      },
      "execution_count": 10,
      "outputs": [
        {
          "output_type": "execute_result",
          "data": {
            "text/plain": [
              "['AREZOO',\n",
              " 'is',\n",
              " 'the',\n",
              " 'best',\n",
              " 'sudent',\n",
              " 'in',\n",
              " 'the',\n",
              " 'best',\n",
              " 'Community',\n",
              " 'NLP',\n",
              " 'class']"
            ]
          },
          "metadata": {},
          "execution_count": 10
        }
      ]
    },
    {
      "cell_type": "code",
      "source": [
        "print(result)"
      ],
      "metadata": {
        "colab": {
          "base_uri": "https://localhost:8080/"
        },
        "id": "iZ-ZDk2HQG85",
        "outputId": "68084fbb-7e2b-4cf0-92de-2dd3fbc6acda"
      },
      "execution_count": 11,
      "outputs": [
        {
          "output_type": "stream",
          "name": "stdout",
          "text": [
            "['AREZOO', 'is', 'the', 'best', 'sudent', 'in', 'the', 'best', 'Community', 'NLP', 'class']\n"
          ]
        }
      ]
    },
    {
      "cell_type": "code",
      "source": [
        "#tbea split ye argomane dge ham migire be esme max split ke max split mige\n",
        "#agha ba asase in olgoo matn ro chand bar beshkoonam?\n",
        "result = re.split(\"\\s\", str , 2)\n",
        "print(result)"
      ],
      "metadata": {
        "colab": {
          "base_uri": "https://localhost:8080/"
        },
        "id": "zXn2VsaEQigm",
        "outputId": "672363e6-a52e-46fd-9a69-30692a541f60"
      },
      "execution_count": 12,
      "outputs": [
        {
          "output_type": "stream",
          "name": "stdout",
          "text": [
            "['AREZOO', 'is', 'the best sudent in the best Community NLP class']\n"
          ]
        }
      ]
    },
    {
      "cell_type": "code",
      "source": [
        "result"
      ],
      "metadata": {
        "colab": {
          "base_uri": "https://localhost:8080/"
        },
        "id": "9mr8eMQvRg6W",
        "outputId": "aa94dac2-ec56-4f08-c969-a338b181374b"
      },
      "execution_count": 13,
      "outputs": [
        {
          "output_type": "execute_result",
          "data": {
            "text/plain": [
              "['AREZOO', 'is', 'the best sudent in the best Community NLP class']"
            ]
          },
          "metadata": {},
          "execution_count": 13
        }
      ]
    },
    {
      "cell_type": "code",
      "source": [
        "#argoman flags be ma mige agar amale khasi khastam ham zaman anjam beshe heyne split anjam beshe\n",
        "#mesle inke man inja goftam matn man ro ba ba harfe n split kn che n koochak che N bozorg\n",
        "result = re.split('n', str, flags= re.IGNORECASE)\n",
        "print(result)"
      ],
      "metadata": {
        "colab": {
          "base_uri": "https://localhost:8080/"
        },
        "id": "AUMjk9OXRjnw",
        "outputId": "fec56792-d13f-4fb7-eec4-be312ec0aa30"
      },
      "execution_count": 14,
      "outputs": [
        {
          "output_type": "stream",
          "name": "stdout",
          "text": [
            "['AREZOO is the best sude', 't i', ' the best Commu', 'ity ', 'LP class']\n"
          ]
        }
      ]
    },
    {
      "cell_type": "code",
      "source": [
        "result = re.split(\"c\", str , flags= re.IGNORECASE)\n",
        "print(result)"
      ],
      "metadata": {
        "colab": {
          "base_uri": "https://localhost:8080/"
        },
        "id": "6rWo7kzjSxuL",
        "outputId": "9d703f5e-7fb2-467d-e9c3-8a80d9423e73"
      },
      "execution_count": 15,
      "outputs": [
        {
          "output_type": "stream",
          "name": "stdout",
          "text": [
            "['AREZOO is the best sudent in the best ', 'ommunity NLP ', 'lass']\n"
          ]
        }
      ]
    },
    {
      "cell_type": "code",
      "source": [
        "result = re.split(\"a\", str , flags= re.IGNORECASE)\n",
        "print(result)"
      ],
      "metadata": {
        "colab": {
          "base_uri": "https://localhost:8080/"
        },
        "id": "laEMY6kvTvQN",
        "outputId": "f09a957b-70af-4522-b5f8-0d36c3bb4f5d"
      },
      "execution_count": 16,
      "outputs": [
        {
          "output_type": "stream",
          "name": "stdout",
          "text": [
            "['', 'REZOO is the best sudent in the best Community NLP cl', 'ss']\n"
          ]
        }
      ]
    },
    {
      "cell_type": "code",
      "source": [
        "#tabe full match yani argomani ke ma behesh midahim kamel ba matnemun bayad yeki bashe\n",
        "result = re.fullmatch(\"AREZOO is the best sudent in the best Community NLP class\", str)\n",
        "print(result)"
      ],
      "metadata": {
        "colab": {
          "base_uri": "https://localhost:8080/"
        },
        "id": "YwhIsOw2UOIi",
        "outputId": "9f8be5a3-2056-4206-d4b4-8953233fa23e"
      },
      "execution_count": 17,
      "outputs": [
        {
          "output_type": "stream",
          "name": "stdout",
          "text": [
            "<re.Match object; span=(0, 57), match='AREZOO is the best sudent in the best Community N>\n"
          ]
        }
      ]
    },
    {
      "cell_type": "code",
      "source": [
        "result = re.fullmatch(\"arezoo is the best sudent in the best Community NLP class\", str)\n",
        "print(result)"
      ],
      "metadata": {
        "colab": {
          "base_uri": "https://localhost:8080/"
        },
        "id": "fWo87edvU5BH",
        "outputId": "cb18380b-8713-4974-aa9f-a4bb14add1ee"
      },
      "execution_count": 18,
      "outputs": [
        {
          "output_type": "stream",
          "name": "stdout",
          "text": [
            "None\n"
          ]
        }
      ]
    },
    {
      "cell_type": "code",
      "source": [
        "result = re.fullmatch(\"arezoo is the best sudent in the best Community NLP class\", str, flags= re.IGNORECASE)\n",
        "print(result)  #vaghti ignorcase mknim faghat age hame hroof yeksan bashe match barmigardoone"
      ],
      "metadata": {
        "colab": {
          "base_uri": "https://localhost:8080/"
        },
        "id": "A2cWKSr_VMXF",
        "outputId": "e17ea87a-c9ed-4b5d-ac2b-4a188901885f"
      },
      "execution_count": 19,
      "outputs": [
        {
          "output_type": "stream",
          "name": "stdout",
          "text": [
            "<re.Match object; span=(0, 57), match='AREZOO is the best sudent in the best Community N>\n"
          ]
        }
      ]
    },
    {
      "cell_type": "code",
      "source": [
        "#yek rahe dge estefade az tabea match estefade az tabea compile ast ke pattern ro migire va ma harkari\n",
        "#khastim roosh anjam mdim\n",
        "\n",
        "#inja in paein man objecti be esm prog az pattern arezoo sakhtam"
      ],
      "metadata": {
        "id": "Xbr3tXWkVcSH"
      },
      "execution_count": 20,
      "outputs": []
    },
    {
      "cell_type": "code",
      "source": [
        "prog = re.compile(\"AREZOO\") #miam olgoo ro aval azash ye object misazim\n",
        "result = prog.match(str)    #baad migim bia rooye olgoo man match anjam bde find all anjam bde bia search anjam bde\n",
        "print(result)               #ya har kare dgei ro ke dota khoruji ham mibinim yeksan hastan"
      ],
      "metadata": {
        "id": "plUDwMabWV_K",
        "colab": {
          "base_uri": "https://localhost:8080/"
        },
        "outputId": "ce65fdff-8c39-45aa-94a6-c16dfd30d8b0"
      },
      "execution_count": 24,
      "outputs": [
        {
          "output_type": "stream",
          "name": "stdout",
          "text": [
            "<re.Match object; span=(0, 6), match='AREZOO'>\n"
          ]
        }
      ]
    },
    {
      "cell_type": "code",
      "source": [
        "result = re.match(\"AREZOO\",str)\n",
        "print(result)"
      ],
      "metadata": {
        "colab": {
          "base_uri": "https://localhost:8080/"
        },
        "id": "GlMHqEeLhKRi",
        "outputId": "5837fa6f-3182-47c3-a16c-e90d8925d59a"
      },
      "execution_count": 23,
      "outputs": [
        {
          "output_type": "stream",
          "name": "stdout",
          "text": [
            "<re.Match object; span=(0, 6), match='AREZOO'>\n"
          ]
        }
      ]
    },
    {
      "cell_type": "code",
      "source": [
        "#az sub mitunim bara jaygozari estefade knim\n",
        "#pas 3 ta argoman dare avali olgooei ke mikhaim peyda beshe va agar bud ba bade jaygozin bshe\n",
        "#va orgoman akhar matni ke mikhahim in etefagh barash biofte\n",
        "result = re.sub(\"AREZOO\",\"katrin\",str)\n",
        "print(result)"
      ],
      "metadata": {
        "colab": {
          "base_uri": "https://localhost:8080/"
        },
        "id": "xhC01lBWhqFe",
        "outputId": "e41e3520-6704-4117-99a7-a6b27f40ef87"
      },
      "execution_count": 27,
      "outputs": [
        {
          "output_type": "stream",
          "name": "stdout",
          "text": [
            "katrin is the best sudent in the best Community NLP class\n"
          ]
        }
      ]
    },
    {
      "cell_type": "code",
      "source": [
        "import nltk #agar da jupyter nasb nabud ba pip instal nasb knid\n",
        "            #ba nltk tokeniz ya bakhshbandi anjam mdim dar sathe kalame ya jomle"
      ],
      "metadata": {
        "id": "sehZp8cYjeeK"
      },
      "execution_count": 29,
      "outputs": []
    },
    {
      "cell_type": "code",
      "execution_count": 52,
      "metadata": {
        "id": "ILfJtN87fjkH"
      },
      "outputs": [],
      "source": [
        "text = \"\"\"Muad'Dib learned rapidly because his first training was in how to learn.\n",
        "          And the first lesson of all was the basic trust that he could learn.\n",
        "          It's shocking to find how many people do not believe they can learn, and how many more believe learning to be difficult.\"\"\"\n",
        "\n",
        "#agar yek matn toolani khasti benevisi ke dakhelesh enter dare avalesh 3 ta cotation baz kno beband ke in\n",
        "#string shenakhte mishe ke makhsusan age mosavi ba yek motaghayer ham gharar dade bashish"
      ]
    },
    {
      "cell_type": "code",
      "source": [
        "#documentation khode nltk ro baz kni mibini baraye estefade az sent_tokenize ya word_tokenize bayad baraye estefade az package\n",
        "#nltk az punkt downloadesh kni"
      ],
      "metadata": {
        "id": "jMnh411Flcsx"
      },
      "execution_count": 53,
      "outputs": []
    },
    {
      "cell_type": "code",
      "source": [
        "nltk.download('punkt')"
      ],
      "metadata": {
        "colab": {
          "base_uri": "https://localhost:8080/"
        },
        "id": "Pir7Nkmnm0_r",
        "outputId": "f0061165-4808-4704-8bb5-acad80bd86f5"
      },
      "execution_count": 54,
      "outputs": [
        {
          "output_type": "stream",
          "name": "stderr",
          "text": [
            "[nltk_data] Downloading package punkt to /root/nltk_data...\n",
            "[nltk_data]   Package punkt is already up-to-date!\n"
          ]
        },
        {
          "output_type": "execute_result",
          "data": {
            "text/plain": [
              "True"
            ]
          },
          "metadata": {},
          "execution_count": 54
        }
      ]
    },
    {
      "cell_type": "code",
      "source": [
        "from nltk.tokenize import sent_tokenize, word_tokenize"
      ],
      "metadata": {
        "id": "y-SJmOEPm_lj"
      },
      "execution_count": 55,
      "outputs": []
    },
    {
      "cell_type": "code",
      "source": [
        "#nltk,spaCy va stanzo ke bara stanford ast sayere package ha hastand ke dakhele documentation harkodum berid\n",
        "#vizhegihaye oon package va vorudi chi bayad bdi va khoruji haro tozih mde"
      ],
      "metadata": {
        "id": "NMmMjHBBnLrl"
      },
      "execution_count": 56,
      "outputs": []
    },
    {
      "cell_type": "code",
      "source": [
        "#nltk.tokenize yek ketabkhoonast ke ma tavabe sent tokenize va word tokenize ro import kardim"
      ],
      "metadata": {
        "id": "NZwrE16bnl7m"
      },
      "execution_count": 57,
      "outputs": []
    },
    {
      "cell_type": "code",
      "source": [
        "#tabea sent_tokenize ye argoman migire ke matne ma hast ke azash ye object sakhtim\n",
        "sent_tokenize(text)"
      ],
      "metadata": {
        "colab": {
          "base_uri": "https://localhost:8080/"
        },
        "id": "orGyvkIpoS-N",
        "outputId": "90c93cdb-47d8-4bdc-fe80-d45fd19b92aa"
      },
      "execution_count": 58,
      "outputs": [
        {
          "output_type": "execute_result",
          "data": {
            "text/plain": [
              "[\"Muad'Dib learned rapidly because his first training was in how to learn.\",\n",
              " 'And the first lesson of all was the basic trust that he could learn.',\n",
              " \"It's shocking to find how many people do not believe they can learn, and how many more believe learning to be difficult.\"]"
            ]
          },
          "metadata": {},
          "execution_count": 58
        }
      ]
    },
    {
      "cell_type": "code",
      "source": [
        "#mibinim ke khoroojie man yek list khahad bud ke ozvhash jomalate man hastand.\n",
        "#ke mibinim matne man 3 jomle dasht"
      ],
      "metadata": {
        "id": "GkBdQuK_orB2"
      },
      "execution_count": 59,
      "outputs": []
    },
    {
      "cell_type": "code",
      "source": [
        "word_tokenize(text)"
      ],
      "metadata": {
        "colab": {
          "base_uri": "https://localhost:8080/"
        },
        "id": "H4l6qN_J8Fh2",
        "outputId": "34a59720-b0e5-4d6e-c7f8-1bb505b6ecea"
      },
      "execution_count": 60,
      "outputs": [
        {
          "output_type": "execute_result",
          "data": {
            "text/plain": [
              "[\"Muad'Dib\",\n",
              " 'learned',\n",
              " 'rapidly',\n",
              " 'because',\n",
              " 'his',\n",
              " 'first',\n",
              " 'training',\n",
              " 'was',\n",
              " 'in',\n",
              " 'how',\n",
              " 'to',\n",
              " 'learn',\n",
              " '.',\n",
              " 'And',\n",
              " 'the',\n",
              " 'first',\n",
              " 'lesson',\n",
              " 'of',\n",
              " 'all',\n",
              " 'was',\n",
              " 'the',\n",
              " 'basic',\n",
              " 'trust',\n",
              " 'that',\n",
              " 'he',\n",
              " 'could',\n",
              " 'learn',\n",
              " '.',\n",
              " 'It',\n",
              " \"'s\",\n",
              " 'shocking',\n",
              " 'to',\n",
              " 'find',\n",
              " 'how',\n",
              " 'many',\n",
              " 'people',\n",
              " 'do',\n",
              " 'not',\n",
              " 'believe',\n",
              " 'they',\n",
              " 'can',\n",
              " 'learn',\n",
              " ',',\n",
              " 'and',\n",
              " 'how',\n",
              " 'many',\n",
              " 'more',\n",
              " 'believe',\n",
              " 'learning',\n",
              " 'to',\n",
              " 'be',\n",
              " 'difficult',\n",
              " '.']"
            ]
          },
          "metadata": {},
          "execution_count": 60
        }
      ]
    },
    {
      "cell_type": "code",
      "source": [
        "#ke mibinim noghte comma va apostrof s ro yek kalame dar nazar migire ama kole\n",
        "#Muad'dib ro yek kalame dar nazar migire ya kole training ro ya kole how ro"
      ],
      "metadata": {
        "id": "3imo68Uu9Kck"
      },
      "execution_count": 61,
      "outputs": []
    },
    {
      "cell_type": "code",
      "source": [
        "#I've found that TweetTokenizer does not split the contraction into two parts:\n",
        "\n",
        "word_tokenize(\"The code didn't work!\")"
      ],
      "metadata": {
        "colab": {
          "base_uri": "https://localhost:8080/"
        },
        "id": "0SWDFOFY_uWA",
        "outputId": "6270df03-56a3-41fb-f736-571180f4c914"
      },
      "execution_count": 63,
      "outputs": [
        {
          "output_type": "execute_result",
          "data": {
            "text/plain": [
              "['The', 'code', 'did', \"n't\", 'work', '!']"
            ]
          },
          "metadata": {},
          "execution_count": 63
        }
      ]
    },
    {
      "cell_type": "code",
      "source": [
        "from nltk.tokenize import TweetTokenizer\n",
        "tknzr = TweetTokenizer()\n",
        "tknzr.tokenize(\"The code didn't work!\")"
      ],
      "metadata": {
        "colab": {
          "base_uri": "https://localhost:8080/"
        },
        "id": "Uuy8e0GM_3Mz",
        "outputId": "6615ae80-8503-4c38-f679-e986d19767b0"
      },
      "execution_count": 65,
      "outputs": [
        {
          "output_type": "execute_result",
          "data": {
            "text/plain": [
              "['The', 'code', \"didn't\", 'work', '!']"
            ]
          },
          "metadata": {},
          "execution_count": 65
        }
      ]
    },
    {
      "cell_type": "code",
      "source": [
        "nltk.download(\"stopwords\")"
      ],
      "metadata": {
        "colab": {
          "base_uri": "https://localhost:8080/"
        },
        "id": "PBpsPw1pALi3",
        "outputId": "999d225f-4cb8-4e54-ce68-27b86bc1488c"
      },
      "execution_count": 66,
      "outputs": [
        {
          "output_type": "stream",
          "name": "stderr",
          "text": [
            "[nltk_data] Downloading package stopwords to /root/nltk_data...\n",
            "[nltk_data]   Unzipping corpora/stopwords.zip.\n"
          ]
        },
        {
          "output_type": "execute_result",
          "data": {
            "text/plain": [
              "True"
            ]
          },
          "metadata": {},
          "execution_count": 66
        }
      ]
    },
    {
      "cell_type": "code",
      "source": [
        "from nltk.corpus import stopwords"
      ],
      "metadata": {
        "id": "lpgXAo3ZAtjE"
      },
      "execution_count": 67,
      "outputs": []
    },
    {
      "cell_type": "code",
      "source": [
        "words_in_quote = word_tokenize(text) #migam kalamati ke token kardi tooye yek motaghayer beriz\n",
        "words_in_quote                       #vaghti akharin jomlat ye motaghayer bashe khodesh print mkne dge nizi be print nist"
      ],
      "metadata": {
        "colab": {
          "base_uri": "https://localhost:8080/"
        },
        "id": "H9lMhwMaA4zq",
        "outputId": "ee486bd5-765e-49f9-e82a-b83819a912f9"
      },
      "execution_count": 71,
      "outputs": [
        {
          "output_type": "execute_result",
          "data": {
            "text/plain": [
              "[\"Muad'Dib\",\n",
              " 'learned',\n",
              " 'rapidly',\n",
              " 'because',\n",
              " 'his',\n",
              " 'first',\n",
              " 'training',\n",
              " 'was',\n",
              " 'in',\n",
              " 'how',\n",
              " 'to',\n",
              " 'learn',\n",
              " '.',\n",
              " 'And',\n",
              " 'the',\n",
              " 'first',\n",
              " 'lesson',\n",
              " 'of',\n",
              " 'all',\n",
              " 'was',\n",
              " 'the',\n",
              " 'basic',\n",
              " 'trust',\n",
              " 'that',\n",
              " 'he',\n",
              " 'could',\n",
              " 'learn',\n",
              " '.',\n",
              " 'It',\n",
              " \"'s\",\n",
              " 'shocking',\n",
              " 'to',\n",
              " 'find',\n",
              " 'how',\n",
              " 'many',\n",
              " 'people',\n",
              " 'do',\n",
              " 'not',\n",
              " 'believe',\n",
              " 'they',\n",
              " 'can',\n",
              " 'learn',\n",
              " ',',\n",
              " 'and',\n",
              " 'how',\n",
              " 'many',\n",
              " 'more',\n",
              " 'believe',\n",
              " 'learning',\n",
              " 'to',\n",
              " 'be',\n",
              " 'difficult',\n",
              " '.']"
            ]
          },
          "metadata": {},
          "execution_count": 71
        }
      ]
    },
    {
      "cell_type": "code",
      "source": [
        "#inke stopwords haye nltk che zaboonhaei dare dakhele documentation nltk motavajeh misham\n",
        "#ye set tarif kardam ke tekrari nadashte bashe va kalamte ist vazhe nltk ro rikhtam dakhele yek motaghayer\n",
        "stop_words = set(stopwords.words(\"english\")) #function words az tabea stopwords in karo anjam mde"
      ],
      "metadata": {
        "id": "23WbVw6LBL6h"
      },
      "execution_count": 74,
      "outputs": []
    },
    {
      "cell_type": "code",
      "source": [
        "stop_words"
      ],
      "metadata": {
        "colab": {
          "base_uri": "https://localhost:8080/"
        },
        "id": "4gimh_oNCxVl",
        "outputId": "44d6f437-115c-423d-f7db-0bc330b87ca3"
      },
      "execution_count": 75,
      "outputs": [
        {
          "output_type": "execute_result",
          "data": {
            "text/plain": [
              "{'a',\n",
              " 'about',\n",
              " 'above',\n",
              " 'after',\n",
              " 'again',\n",
              " 'against',\n",
              " 'ain',\n",
              " 'all',\n",
              " 'am',\n",
              " 'an',\n",
              " 'and',\n",
              " 'any',\n",
              " 'are',\n",
              " 'aren',\n",
              " \"aren't\",\n",
              " 'as',\n",
              " 'at',\n",
              " 'be',\n",
              " 'because',\n",
              " 'been',\n",
              " 'before',\n",
              " 'being',\n",
              " 'below',\n",
              " 'between',\n",
              " 'both',\n",
              " 'but',\n",
              " 'by',\n",
              " 'can',\n",
              " 'couldn',\n",
              " \"couldn't\",\n",
              " 'd',\n",
              " 'did',\n",
              " 'didn',\n",
              " \"didn't\",\n",
              " 'do',\n",
              " 'does',\n",
              " 'doesn',\n",
              " \"doesn't\",\n",
              " 'doing',\n",
              " 'don',\n",
              " \"don't\",\n",
              " 'down',\n",
              " 'during',\n",
              " 'each',\n",
              " 'few',\n",
              " 'for',\n",
              " 'from',\n",
              " 'further',\n",
              " 'had',\n",
              " 'hadn',\n",
              " \"hadn't\",\n",
              " 'has',\n",
              " 'hasn',\n",
              " \"hasn't\",\n",
              " 'have',\n",
              " 'haven',\n",
              " \"haven't\",\n",
              " 'having',\n",
              " 'he',\n",
              " 'her',\n",
              " 'here',\n",
              " 'hers',\n",
              " 'herself',\n",
              " 'him',\n",
              " 'himself',\n",
              " 'his',\n",
              " 'how',\n",
              " 'i',\n",
              " 'if',\n",
              " 'in',\n",
              " 'into',\n",
              " 'is',\n",
              " 'isn',\n",
              " \"isn't\",\n",
              " 'it',\n",
              " \"it's\",\n",
              " 'its',\n",
              " 'itself',\n",
              " 'just',\n",
              " 'll',\n",
              " 'm',\n",
              " 'ma',\n",
              " 'me',\n",
              " 'mightn',\n",
              " \"mightn't\",\n",
              " 'more',\n",
              " 'most',\n",
              " 'mustn',\n",
              " \"mustn't\",\n",
              " 'my',\n",
              " 'myself',\n",
              " 'needn',\n",
              " \"needn't\",\n",
              " 'no',\n",
              " 'nor',\n",
              " 'not',\n",
              " 'now',\n",
              " 'o',\n",
              " 'of',\n",
              " 'off',\n",
              " 'on',\n",
              " 'once',\n",
              " 'only',\n",
              " 'or',\n",
              " 'other',\n",
              " 'our',\n",
              " 'ours',\n",
              " 'ourselves',\n",
              " 'out',\n",
              " 'over',\n",
              " 'own',\n",
              " 're',\n",
              " 's',\n",
              " 'same',\n",
              " 'shan',\n",
              " \"shan't\",\n",
              " 'she',\n",
              " \"she's\",\n",
              " 'should',\n",
              " \"should've\",\n",
              " 'shouldn',\n",
              " \"shouldn't\",\n",
              " 'so',\n",
              " 'some',\n",
              " 'such',\n",
              " 't',\n",
              " 'than',\n",
              " 'that',\n",
              " \"that'll\",\n",
              " 'the',\n",
              " 'their',\n",
              " 'theirs',\n",
              " 'them',\n",
              " 'themselves',\n",
              " 'then',\n",
              " 'there',\n",
              " 'these',\n",
              " 'they',\n",
              " 'this',\n",
              " 'those',\n",
              " 'through',\n",
              " 'to',\n",
              " 'too',\n",
              " 'under',\n",
              " 'until',\n",
              " 'up',\n",
              " 've',\n",
              " 'very',\n",
              " 'was',\n",
              " 'wasn',\n",
              " \"wasn't\",\n",
              " 'we',\n",
              " 'were',\n",
              " 'weren',\n",
              " \"weren't\",\n",
              " 'what',\n",
              " 'when',\n",
              " 'where',\n",
              " 'which',\n",
              " 'while',\n",
              " 'who',\n",
              " 'whom',\n",
              " 'why',\n",
              " 'will',\n",
              " 'with',\n",
              " 'won',\n",
              " \"won't\",\n",
              " 'wouldn',\n",
              " \"wouldn't\",\n",
              " 'y',\n",
              " 'you',\n",
              " \"you'd\",\n",
              " \"you'll\",\n",
              " \"you're\",\n",
              " \"you've\",\n",
              " 'your',\n",
              " 'yours',\n",
              " 'yourself',\n",
              " 'yourselves'}"
            ]
          },
          "metadata": {},
          "execution_count": 75
        }
      ]
    },
    {
      "cell_type": "code",
      "source": [
        "#mitooni ye list tarif kni az stopwords haei ke manfi ya bare manaei manfi darand va az list stopwords ha hazf kni\n",
        "#baraye sentiment analysis. chon agar man tag manfi ba jomleye this isn't good ro dashte basham pas isn't ro hazf\n",
        "#mikne va jomle mishe this is good va baraye man tag mosbat barmigardoone\n",
        "#pas bayad list ist vazhe ro baraye khodet custom kni va unhaei ke nemikay hazf beshan ro masalan ezafe kni"
      ],
      "metadata": {
        "id": "UTv2m1MxHbFI"
      },
      "execution_count": 78,
      "outputs": []
    },
    {
      "cell_type": "code",
      "source": [
        "#hala mikham ye listi az kalamate matnam dorost knm ke toosh ist vazhe ya stop word nist\n",
        "filtered_list = []"
      ],
      "metadata": {
        "id": "JAcny8d1IJg8"
      },
      "execution_count": 79,
      "outputs": []
    },
    {
      "cell_type": "code",
      "source": [
        "for word in words_in_quote:\n",
        "  if word.casefold() not in stop_words:\n",
        "    filtered_list.append(word)\n",
        "\n",
        "#hameye kalamat dakhele motaghayere words_in_quote hast ke be ezaye har kalame ke dakhele list stop_words ha nabud\n",
        "#be list jadid ezafe mkne"
      ],
      "metadata": {
        "id": "AEZSzTjUJp6a"
      },
      "execution_count": 95,
      "outputs": []
    },
    {
      "cell_type": "code",
      "source": [
        "#baraye har kalame dakhele kole kalamat agar hameye kalamat ro koochak kardi va dakhele liste stop_words nabud\n",
        "#be liste filter append ya ezafe kn\n",
        "#filter_list kalamate gheyre ist vazhehaye matn hastand\n",
        "filtered_list"
      ],
      "metadata": {
        "colab": {
          "base_uri": "https://localhost:8080/"
        },
        "id": "qcuW3z4hKLoT",
        "outputId": "417208df-94a8-4959-f8cc-c3db575fa041"
      },
      "execution_count": 110,
      "outputs": [
        {
          "output_type": "execute_result",
          "data": {
            "text/plain": [
              "[\"Muad'Dib\",\n",
              " 'learned',\n",
              " 'rapidly',\n",
              " 'first',\n",
              " 'training',\n",
              " 'learn',\n",
              " '.',\n",
              " 'first',\n",
              " 'lesson',\n",
              " 'basic',\n",
              " 'trust',\n",
              " 'could',\n",
              " 'learn',\n",
              " '.',\n",
              " \"'s\",\n",
              " 'shocking',\n",
              " 'find',\n",
              " 'many',\n",
              " 'people',\n",
              " 'believe',\n",
              " 'learn',\n",
              " ',',\n",
              " 'many',\n",
              " 'believe',\n",
              " 'learning',\n",
              " 'difficult',\n",
              " '.',\n",
              " \"Muad'Dib\",\n",
              " 'learned',\n",
              " 'rapidly',\n",
              " 'first',\n",
              " 'training',\n",
              " 'learn',\n",
              " '.',\n",
              " 'first',\n",
              " 'lesson',\n",
              " 'basic',\n",
              " 'trust',\n",
              " 'could',\n",
              " 'learn',\n",
              " '.',\n",
              " \"'s\",\n",
              " 'shocking',\n",
              " 'find',\n",
              " 'many',\n",
              " 'people',\n",
              " 'believe',\n",
              " 'learn',\n",
              " ',',\n",
              " 'many',\n",
              " 'believe',\n",
              " 'learning',\n",
              " 'difficult',\n",
              " '.']"
            ]
          },
          "metadata": {},
          "execution_count": 110
        }
      ]
    },
    {
      "cell_type": "code",
      "source": [
        "#tabea casefold agar jeloye ye string bezari hamaro koochik dar nazar migire"
      ],
      "metadata": {
        "id": "xaj95HOqKsuA"
      },
      "execution_count": 84,
      "outputs": []
    },
    {
      "cell_type": "code",
      "source": [
        "filtered_list = [word for word in words_in_quote if word.casefold() not in stop_words]"
      ],
      "metadata": {
        "id": "DmXBd2OOLR8-"
      },
      "execution_count": 91,
      "outputs": []
    },
    {
      "cell_type": "code",
      "source": [
        "#agar khasti az listi kam kni dot remove estefade mishe ke index ham mishe bdi albate chon index be ham mikhore\n",
        "#behtare index nadi"
      ],
      "metadata": {
        "id": "TJBUsslWLy2c"
      },
      "execution_count": 94,
      "outputs": []
    },
    {
      "cell_type": "code",
      "source": [
        "stop_words"
      ],
      "metadata": {
        "colab": {
          "base_uri": "https://localhost:8080/"
        },
        "id": "mqJTjsBFOeOR",
        "outputId": "593c2016-0be0-410d-f407-0206ec76b3d6"
      },
      "execution_count": 96,
      "outputs": [
        {
          "output_type": "execute_result",
          "data": {
            "text/plain": [
              "{'a',\n",
              " 'about',\n",
              " 'above',\n",
              " 'after',\n",
              " 'again',\n",
              " 'against',\n",
              " 'ain',\n",
              " 'all',\n",
              " 'am',\n",
              " 'an',\n",
              " 'and',\n",
              " 'any',\n",
              " 'are',\n",
              " 'aren',\n",
              " \"aren't\",\n",
              " 'as',\n",
              " 'at',\n",
              " 'be',\n",
              " 'because',\n",
              " 'been',\n",
              " 'before',\n",
              " 'being',\n",
              " 'below',\n",
              " 'between',\n",
              " 'both',\n",
              " 'but',\n",
              " 'by',\n",
              " 'can',\n",
              " 'couldn',\n",
              " \"couldn't\",\n",
              " 'd',\n",
              " 'did',\n",
              " 'didn',\n",
              " \"didn't\",\n",
              " 'do',\n",
              " 'does',\n",
              " 'doesn',\n",
              " \"doesn't\",\n",
              " 'doing',\n",
              " 'don',\n",
              " \"don't\",\n",
              " 'down',\n",
              " 'during',\n",
              " 'each',\n",
              " 'few',\n",
              " 'for',\n",
              " 'from',\n",
              " 'further',\n",
              " 'had',\n",
              " 'hadn',\n",
              " \"hadn't\",\n",
              " 'has',\n",
              " 'hasn',\n",
              " \"hasn't\",\n",
              " 'have',\n",
              " 'haven',\n",
              " \"haven't\",\n",
              " 'having',\n",
              " 'he',\n",
              " 'her',\n",
              " 'here',\n",
              " 'hers',\n",
              " 'herself',\n",
              " 'him',\n",
              " 'himself',\n",
              " 'his',\n",
              " 'how',\n",
              " 'i',\n",
              " 'if',\n",
              " 'in',\n",
              " 'into',\n",
              " 'is',\n",
              " 'isn',\n",
              " \"isn't\",\n",
              " 'it',\n",
              " \"it's\",\n",
              " 'its',\n",
              " 'itself',\n",
              " 'just',\n",
              " 'll',\n",
              " 'm',\n",
              " 'ma',\n",
              " 'me',\n",
              " 'mightn',\n",
              " \"mightn't\",\n",
              " 'more',\n",
              " 'most',\n",
              " 'mustn',\n",
              " \"mustn't\",\n",
              " 'my',\n",
              " 'myself',\n",
              " 'needn',\n",
              " \"needn't\",\n",
              " 'no',\n",
              " 'nor',\n",
              " 'not',\n",
              " 'now',\n",
              " 'o',\n",
              " 'of',\n",
              " 'off',\n",
              " 'on',\n",
              " 'once',\n",
              " 'only',\n",
              " 'or',\n",
              " 'other',\n",
              " 'our',\n",
              " 'ours',\n",
              " 'ourselves',\n",
              " 'out',\n",
              " 'over',\n",
              " 'own',\n",
              " 're',\n",
              " 's',\n",
              " 'same',\n",
              " 'shan',\n",
              " \"shan't\",\n",
              " 'she',\n",
              " \"she's\",\n",
              " 'should',\n",
              " \"should've\",\n",
              " 'shouldn',\n",
              " \"shouldn't\",\n",
              " 'so',\n",
              " 'some',\n",
              " 'such',\n",
              " 't',\n",
              " 'than',\n",
              " 'that',\n",
              " \"that'll\",\n",
              " 'the',\n",
              " 'their',\n",
              " 'theirs',\n",
              " 'them',\n",
              " 'themselves',\n",
              " 'then',\n",
              " 'there',\n",
              " 'these',\n",
              " 'they',\n",
              " 'this',\n",
              " 'those',\n",
              " 'through',\n",
              " 'to',\n",
              " 'too',\n",
              " 'under',\n",
              " 'until',\n",
              " 'up',\n",
              " 've',\n",
              " 'very',\n",
              " 'was',\n",
              " 'wasn',\n",
              " \"wasn't\",\n",
              " 'we',\n",
              " 'were',\n",
              " 'weren',\n",
              " \"weren't\",\n",
              " 'what',\n",
              " 'when',\n",
              " 'where',\n",
              " 'which',\n",
              " 'while',\n",
              " 'who',\n",
              " 'whom',\n",
              " 'why',\n",
              " 'will',\n",
              " 'with',\n",
              " 'won',\n",
              " \"won't\",\n",
              " 'wouldn',\n",
              " \"wouldn't\",\n",
              " 'y',\n",
              " 'you',\n",
              " \"you'd\",\n",
              " \"you'll\",\n",
              " \"you're\",\n",
              " \"you've\",\n",
              " 'your',\n",
              " 'yours',\n",
              " 'yourself',\n",
              " 'yourselves'}"
            ]
          },
          "metadata": {},
          "execution_count": 96
        }
      ]
    },
    {
      "cell_type": "code",
      "source": [
        "to_be_removed = {\"aren\",\"aren't\"}"
      ],
      "metadata": {
        "id": "5DUB-RxmQZLT"
      },
      "execution_count": 97,
      "outputs": []
    },
    {
      "cell_type": "code",
      "source": [
        "#stop_words_2 = [item for item in stop_words not in to_be_removed]\n",
        "#stop_words_2 = [item for item in stop_words.remove to_be_removed]"
      ],
      "metadata": {
        "id": "XUKsP-u_RkCA"
      },
      "execution_count": 109,
      "outputs": []
    },
    {
      "cell_type": "code",
      "source": [
        "to_be_removed = {\"aren\", \"aren't\"}\n",
        "stop_words_2 = [item for item in stop_words if item not in to_be_removed]"
      ],
      "metadata": {
        "id": "kcpctvyiSNkN"
      },
      "execution_count": 106,
      "outputs": []
    },
    {
      "cell_type": "code",
      "source": [
        "stop_words_2"
      ],
      "metadata": {
        "colab": {
          "base_uri": "https://localhost:8080/"
        },
        "id": "kz-ahRrLUuR_",
        "outputId": "164bfa66-8594-4594-fa1a-e34ba127ac33"
      },
      "execution_count": 108,
      "outputs": [
        {
          "output_type": "execute_result",
          "data": {
            "text/plain": [
              "['myself',\n",
              " \"mustn't\",\n",
              " 'when',\n",
              " \"wasn't\",\n",
              " 'these',\n",
              " 'he',\n",
              " 'themselves',\n",
              " \"couldn't\",\n",
              " \"wouldn't\",\n",
              " 'just',\n",
              " 't',\n",
              " 'the',\n",
              " \"needn't\",\n",
              " 'wasn',\n",
              " 'but',\n",
              " 'while',\n",
              " 'where',\n",
              " \"shouldn't\",\n",
              " 'because',\n",
              " \"shan't\",\n",
              " 'this',\n",
              " 'him',\n",
              " 'your',\n",
              " 'at',\n",
              " \"you'd\",\n",
              " 'than',\n",
              " 'whom',\n",
              " 've',\n",
              " 'other',\n",
              " \"won't\",\n",
              " 'me',\n",
              " 'and',\n",
              " 'yours',\n",
              " 'ma',\n",
              " 'couldn',\n",
              " \"you're\",\n",
              " 'of',\n",
              " 'don',\n",
              " 'won',\n",
              " 'weren',\n",
              " 'nor',\n",
              " 'hasn',\n",
              " 'before',\n",
              " 'so',\n",
              " 'was',\n",
              " 'needn',\n",
              " 'yourselves',\n",
              " 'their',\n",
              " 'here',\n",
              " 'why',\n",
              " \"hadn't\",\n",
              " 'ourselves',\n",
              " 'mightn',\n",
              " 'some',\n",
              " 'into',\n",
              " 'from',\n",
              " 'who',\n",
              " \"that'll\",\n",
              " 'i',\n",
              " \"should've\",\n",
              " \"haven't\",\n",
              " 'wouldn',\n",
              " \"it's\",\n",
              " 'under',\n",
              " 'few',\n",
              " 'have',\n",
              " 'only',\n",
              " 'that',\n",
              " 'both',\n",
              " 'over',\n",
              " 'haven',\n",
              " 'its',\n",
              " 'off',\n",
              " \"didn't\",\n",
              " 'yourself',\n",
              " 'll',\n",
              " 'any',\n",
              " 'above',\n",
              " 'most',\n",
              " 'ours',\n",
              " 'hadn',\n",
              " 'own',\n",
              " \"weren't\",\n",
              " \"she's\",\n",
              " 'she',\n",
              " 'her',\n",
              " 'more',\n",
              " 'do',\n",
              " 'hers',\n",
              " 'such',\n",
              " 'being',\n",
              " 'it',\n",
              " 'between',\n",
              " 'same',\n",
              " 'you',\n",
              " 'now',\n",
              " \"don't\",\n",
              " 'them',\n",
              " 'be',\n",
              " 'd',\n",
              " 'what',\n",
              " 'through',\n",
              " 'there',\n",
              " 'below',\n",
              " 'his',\n",
              " 'very',\n",
              " 'has',\n",
              " 'himself',\n",
              " 'against',\n",
              " 'a',\n",
              " 'shouldn',\n",
              " 'our',\n",
              " 'doing',\n",
              " 'in',\n",
              " 'all',\n",
              " 'until',\n",
              " 'been',\n",
              " 'if',\n",
              " 'theirs',\n",
              " 'they',\n",
              " 'no',\n",
              " 'not',\n",
              " 'had',\n",
              " 'shan',\n",
              " 's',\n",
              " 'doesn',\n",
              " \"isn't\",\n",
              " 'itself',\n",
              " 'further',\n",
              " 'too',\n",
              " 'o',\n",
              " 'which',\n",
              " 'isn',\n",
              " 'will',\n",
              " 'did',\n",
              " 'were',\n",
              " 'an',\n",
              " 'out',\n",
              " 're',\n",
              " 'once',\n",
              " 'herself',\n",
              " 'or',\n",
              " 'am',\n",
              " 'didn',\n",
              " 'to',\n",
              " 'm',\n",
              " 'each',\n",
              " 'mustn',\n",
              " 'then',\n",
              " 'should',\n",
              " 'on',\n",
              " 'as',\n",
              " 'we',\n",
              " 'with',\n",
              " 'ain',\n",
              " \"hasn't\",\n",
              " 'during',\n",
              " 'my',\n",
              " 'are',\n",
              " \"you've\",\n",
              " \"doesn't\",\n",
              " 'y',\n",
              " 'about',\n",
              " 'having',\n",
              " 'again',\n",
              " \"you'll\",\n",
              " 'by',\n",
              " 'after',\n",
              " \"mightn't\",\n",
              " 'up',\n",
              " 'is',\n",
              " 'down',\n",
              " 'those',\n",
              " 'how',\n",
              " 'does',\n",
              " 'for',\n",
              " 'can']"
            ]
          },
          "metadata": {},
          "execution_count": 108
        }
      ]
    },
    {
      "cell_type": "code",
      "source": [
        "#stemming\n",
        "#goftim nltk yek ketabkhunast ke khodesh yek seri karharo baramoon anjam dade\n",
        "#stemm kardan ham yek kare dge hast ke nltk khodesh modelesh ro neveshte va anjam dade\n",
        "#ke stemm kardan anvae mokhtalef dare ke ma az porterstemmer estefade mknim\n",
        "\n",
        "from nltk.stem import PorterStemmer"
      ],
      "metadata": {
        "id": "z5z6Spt4UzoF"
      },
      "execution_count": 111,
      "outputs": []
    },
    {
      "cell_type": "code",
      "source": [
        "stemmer = PorterStemmer() #baad azash ye object misazim ke harmoghe khastim az porterstemmer estefade knim az objectesh estefade knim"
      ],
      "metadata": {
        "id": "mFhHgO9akf8l"
      },
      "execution_count": 113,
      "outputs": []
    },
    {
      "cell_type": "code",
      "source": [
        "#for yek khati barash minevisam\n",
        "\n",
        "stemmed_words = [stemmer.stem(word) for word in words_in_quote]"
      ],
      "metadata": {
        "id": "mCEFCja8kpih"
      },
      "execution_count": 114,
      "outputs": []
    },
    {
      "cell_type": "code",
      "source": [
        "#stemmed word man ye liste ke kalamat ro stem mkne be ezaye har kalame dakhele word in quote\n",
        "#yani hame kalamate matn man pas khoroojie in rishe bi manie har kalame dar matnamo mde\n",
        "#ke mibinim hamashoon ham harfe koochik shodan\n",
        "stemmed_words"
      ],
      "metadata": {
        "colab": {
          "base_uri": "https://localhost:8080/"
        },
        "id": "qJ6nHdbZlciy",
        "outputId": "1b8e93d4-7be6-4fa5-88d0-0006cd0a0336"
      },
      "execution_count": 115,
      "outputs": [
        {
          "output_type": "execute_result",
          "data": {
            "text/plain": [
              "[\"muad'dib\",\n",
              " 'learn',\n",
              " 'rapidli',\n",
              " 'becaus',\n",
              " 'hi',\n",
              " 'first',\n",
              " 'train',\n",
              " 'wa',\n",
              " 'in',\n",
              " 'how',\n",
              " 'to',\n",
              " 'learn',\n",
              " '.',\n",
              " 'and',\n",
              " 'the',\n",
              " 'first',\n",
              " 'lesson',\n",
              " 'of',\n",
              " 'all',\n",
              " 'wa',\n",
              " 'the',\n",
              " 'basic',\n",
              " 'trust',\n",
              " 'that',\n",
              " 'he',\n",
              " 'could',\n",
              " 'learn',\n",
              " '.',\n",
              " 'it',\n",
              " \"'s\",\n",
              " 'shock',\n",
              " 'to',\n",
              " 'find',\n",
              " 'how',\n",
              " 'mani',\n",
              " 'peopl',\n",
              " 'do',\n",
              " 'not',\n",
              " 'believ',\n",
              " 'they',\n",
              " 'can',\n",
              " 'learn',\n",
              " ',',\n",
              " 'and',\n",
              " 'how',\n",
              " 'mani',\n",
              " 'more',\n",
              " 'believ',\n",
              " 'learn',\n",
              " 'to',\n",
              " 'be',\n",
              " 'difficult',\n",
              " '.']"
            ]
          },
          "metadata": {},
          "execution_count": 115
        }
      ]
    },
    {
      "cell_type": "code",
      "source": [
        "#Lemmatizing = bone manadar kalame ba doonestane esm ya feal budane kalamaro be ma mde"
      ],
      "metadata": {
        "id": "M8s5u_08mD2L"
      },
      "execution_count": 116,
      "outputs": []
    },
    {
      "cell_type": "code",
      "source": [
        "#goftim lemmatizing ba tavajoh be yek paygah dadei check mkne ke agar oon kalame dar oon paygah dade mana dasht bonesh ro mde\n",
        "\n",
        "nltk.download('wordnet')"
      ],
      "metadata": {
        "colab": {
          "base_uri": "https://localhost:8080/"
        },
        "id": "Ii0h8XN0m6ei",
        "outputId": "8ed7a927-9b8e-41ea-88ce-fdcce44130b1"
      },
      "execution_count": 117,
      "outputs": [
        {
          "output_type": "stream",
          "name": "stderr",
          "text": [
            "[nltk_data] Downloading package wordnet to /root/nltk_data...\n"
          ]
        },
        {
          "output_type": "execute_result",
          "data": {
            "text/plain": [
              "True"
            ]
          },
          "metadata": {},
          "execution_count": 117
        }
      ]
    },
    {
      "cell_type": "code",
      "source": [
        "from nltk.stem import WordNetLemmatizer"
      ],
      "metadata": {
        "id": "swofTBvOnZPW"
      },
      "execution_count": 118,
      "outputs": []
    },
    {
      "cell_type": "code",
      "source": [
        "#ke paygah dade haye mokhtalefo goftim va baad wordnetlemmmatizer ro ham import mknim"
      ],
      "metadata": {
        "id": "hrgu8giAnnKe"
      },
      "execution_count": 119,
      "outputs": []
    },
    {
      "cell_type": "code",
      "source": [
        "lemmatizer = WordNetLemmatizer()"
      ],
      "metadata": {
        "id": "AyblCD-IojqS"
      },
      "execution_count": 120,
      "outputs": []
    },
    {
      "cell_type": "code",
      "source": [
        "lemmatized_words = [lemmatizer.lemmatize(word) for word in words_in_quote]"
      ],
      "metadata": {
        "id": "6HcyojsMoqYe"
      },
      "execution_count": 122,
      "outputs": []
    },
    {
      "cell_type": "code",
      "source": [
        "#chon nemidoone har kalame esme ya feal hichi bar nemigardoone pas bayad bar har kalame behesh begim esme ya feal\n",
        "lemmatizer.lemmatize(\"helping\",\"v\")"
      ],
      "metadata": {
        "colab": {
          "base_uri": "https://localhost:8080/",
          "height": 35
        },
        "id": "ER0NPmcPo7S-",
        "outputId": "817299d5-c76d-4930-ae59-6996a00008fe"
      },
      "execution_count": 124,
      "outputs": [
        {
          "output_type": "execute_result",
          "data": {
            "text/plain": [
              "'help'"
            ],
            "application/vnd.google.colaboratory.intrinsic+json": {
              "type": "string"
            }
          },
          "metadata": {},
          "execution_count": 124
        }
      ]
    },
    {
      "cell_type": "code",
      "source": [],
      "metadata": {
        "id": "r_w-syfipYHY"
      },
      "execution_count": null,
      "outputs": []
    }
  ]
}